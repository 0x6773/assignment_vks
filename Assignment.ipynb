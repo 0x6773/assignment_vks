{
 "cells": [
  {
   "cell_type": "code",
   "execution_count": 1,
   "metadata": {
    "collapsed": false
   },
   "outputs": [
    {
     "data": {
      "text/plain": [
       "'\\nQ2. Write the code for the Power method to find the most dominant eigenvalue of the given matrix\\n'"
      ]
     },
     "execution_count": 1,
     "metadata": {},
     "output_type": "execute_result"
    }
   ],
   "source": [
    "\"\"\"\n",
    "Name : Govind Sahai\n",
    "Roll : 13123006\n",
    "Year : Fourth\n",
    "\"\"\"\n",
    "\"\"\"\n",
    "Q2. Write the code for the Power method to find the most dominant eigenvalue of the given matrix\n",
    "\"\"\""
   ]
  },
  {
   "cell_type": "code",
   "execution_count": 2,
   "metadata": {
    "collapsed": true
   },
   "outputs": [],
   "source": [
    "import numpy as np\n",
    "import math"
   ]
  },
  {
   "cell_type": "code",
   "execution_count": 3,
   "metadata": {
    "collapsed": false
   },
   "outputs": [],
   "source": [
    "mat = np.array([[   5.,  -2., -0.5,  1.5],\n",
    "                [  -2.,   5.,  1.5, -0.5],\n",
    "                [ -0.5,  1.5,   5.,  -2.],\n",
    "                [  1.5, -0.5,  -2.,   5.]])"
   ]
  },
  {
   "cell_type": "code",
   "execution_count": 4,
   "metadata": {
    "collapsed": false
   },
   "outputs": [],
   "source": [
    "tolerance = 10 ** -4\n",
    "def getNextX(A, x, last_eig):\n",
    "    mul = np.dot(A, x)\n",
    "    eig = abs(mul).max()\n",
    "    mul = mul / eig\n",
    "    if last_eig is None: return (False, eig, mul)\n",
    "    elif abs(eig - last_eig) < tolerance: return (True, eig, mul)\n",
    "    else: return (False, eig, mul)"
   ]
  },
  {
   "cell_type": "code",
   "execution_count": 5,
   "metadata": {
    "collapsed": false
   },
   "outputs": [
    {
     "name": "stdout",
     "output_type": "stream",
     "text": [
      "Largest Eigen Value[Magnitude] :  8.99989605235\n",
      "Total number of iterations :  17\n"
     ]
    }
   ],
   "source": [
    "dim = mat.shape[0]\n",
    "x = mat[0]\n",
    "\n",
    "(found, last_eig, x) = getNextX(mat, x, None)\n",
    "i = 0\n",
    "while not found:\n",
    "    i += 1\n",
    "    (found, last_eig, x) = getNextX(mat, x, last_eig)\n",
    "\n",
    "print \"Largest Eigen Value[Magnitude] : \", last_eig\n",
    "print \"Total number of iterations : \", i"
   ]
  },
  {
   "cell_type": "code",
   "execution_count": 6,
   "metadata": {
    "collapsed": false
   },
   "outputs": [
    {
     "data": {
      "text/plain": [
       "\"\\nQ3. Use Householder\\xe2\\x80\\x99s method to find the tridiagonal form of the following matrix. \\nAlso write the code to find the tridiagonal form by using Householder's method of the given matrix.\\n\""
      ]
     },
     "execution_count": 6,
     "metadata": {},
     "output_type": "execute_result"
    }
   ],
   "source": [
    "\"\"\"\n",
    "Q3. Use Householder’s method to find the tridiagonal form of the following matrix. \n",
    "Also write the code to find the tridiagonal form by using Householder's method of the given matrix.\n",
    "\"\"\""
   ]
  },
  {
   "cell_type": "code",
   "execution_count": 7,
   "metadata": {
    "collapsed": false
   },
   "outputs": [],
   "source": [
    "def GetTrigonalizedMatrix(mat):\n",
    "    from libhouseholder import GetTrigonalizedMatrix_\n",
    "    matAsList = mat.tolist()\n",
    "    trigonalizedMatrix = GetTrigonalizedMatrix_(matAsList)\n",
    "    res = np.array(trigonalizedMatrix)\n",
    "    return res"
   ]
  },
  {
   "cell_type": "code",
   "execution_count": 8,
   "metadata": {
    "collapsed": false
   },
   "outputs": [
    {
     "name": "stdout",
     "output_type": "stream",
     "text": [
      "[[  5.00000000e+00   2.54950976e+00  -1.10894266e-16   4.38008032e-16]\n",
      " [  2.54950976e+00   6.38461538e+00   2.14075693e+00  -6.66133815e-16]\n",
      " [ -1.10894266e-16   2.14075693e+00   4.27000050e+00  -6.91280890e-01]\n",
      " [  4.38008032e-16   0.00000000e+00  -6.91280890e-01   4.34538412e+00]]\n"
     ]
    }
   ],
   "source": [
    "print GetTrigonalizedMatrix(mat)"
   ]
  },
  {
   "cell_type": "code",
   "execution_count": 9,
   "metadata": {
    "collapsed": false
   },
   "outputs": [
    {
     "data": {
      "text/plain": [
       "'\\nQ4. Write the code for QR algorithm to determine, to within10 \\xe2\\x88\\x925 , all the eigenvalues of the following matrix.\\n'"
      ]
     },
     "execution_count": 9,
     "metadata": {},
     "output_type": "execute_result"
    }
   ],
   "source": [
    "\"\"\"\n",
    "Q4. Write the code for QR algorithm to determine, to within10 −5 , all the eigenvalues of the following matrix.\n",
    "\"\"\""
   ]
  },
  {
   "cell_type": "code",
   "execution_count": 10,
   "metadata": {
    "collapsed": false
   },
   "outputs": [],
   "source": [
    "A = np.array([[  2., -1.,  0.],\n",
    "              [ -1., -1., -2.],\n",
    "              [  0., -2.,  3.]])"
   ]
  },
  {
   "cell_type": "code",
   "execution_count": 11,
   "metadata": {
    "collapsed": false
   },
   "outputs": [],
   "source": [
    "tolerance = 10 ** -5\n",
    "def getNextA(last_A, i):\n",
    "    print '\\tIteration -- ', i\n",
    "    b, c = np.linalg.qr(last_A)\n",
    "    new_A = c * b\n",
    "    error = np.diag(new_A) - np.diag(last_A)\n",
    "    print 'np.diag(new_A) \\t: ', np.diag(new_A)\n",
    "    print 'np.diag(last_A) : ', np.diag(last_A)\n",
    "    print 'error \\t\\t: ', error\n",
    "    mean_error = np.sqrt(np.sum(np.square(error)))\n",
    "    print 'mean_error \\t: ', mean_error\n",
    "    if mean_error < tolerance:\n",
    "        return (True, new_A)\n",
    "    else:\n",
    "        return (False, new_A)"
   ]
  },
  {
   "cell_type": "code",
   "execution_count": 12,
   "metadata": {
    "collapsed": false
   },
   "outputs": [
    {
     "name": "stdout",
     "output_type": "stream",
     "text": [
      "\tIteration --  1\n",
      "np.diag(new_A) \t:  [ 2.         -1.2         1.75862069]\n",
      "np.diag(last_A) :  [ 2. -1.  3.]\n",
      "error \t\t:  [ -2.22044605e-16  -2.00000000e-01  -1.24137931e+00]\n",
      "mean_error \t:  1.25738720852\n",
      "\tIteration --  2\n",
      "np.diag(new_A) \t:  [ 2.         -1.2         1.75862069]\n",
      "np.diag(last_A) :  [ 2.         -1.2         1.75862069]\n",
      "error \t\t:  [ 0.  0.  0.]\n",
      "mean_error \t:  0.0\n",
      "Total Number of iterations :  2\n",
      "Eigen Values :  [ 2.         -1.2         1.75862069]\n"
     ]
    }
   ],
   "source": [
    "i = 1\n",
    "(found, A) = getNextA(A, i)\n",
    "while not found:\n",
    "    i += 1\n",
    "    (found, A) = getNextA(A, i)\n",
    "print 'Total Number of iterations : ', i\n",
    "print 'Eigen Values : ', np.diag(A)"
   ]
  }
 ],
 "metadata": {
  "anaconda-cloud": {},
  "kernelspec": {
   "display_name": "Python [default]",
   "language": "python",
   "name": "python2"
  },
  "language_info": {
   "codemirror_mode": {
    "name": "ipython",
    "version": 2
   },
   "file_extension": ".py",
   "mimetype": "text/x-python",
   "name": "python",
   "nbconvert_exporter": "python",
   "pygments_lexer": "ipython2",
   "version": "2.7.12"
  }
 },
 "nbformat": 4,
 "nbformat_minor": 1
}
